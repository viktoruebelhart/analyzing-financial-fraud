{
  "nbformat": 4,
  "nbformat_minor": 0,
  "metadata": {
    "colab": {
      "provenance": [],
      "mount_file_id": "https://github.com/viktoruebelhart/analyzing-financial-fraud/blob/main/analyzing_financial_fraud.ipynb",
      "authorship_tag": "ABX9TyP/F6jA3c+HTEy39nUqFYzb",
      "include_colab_link": true
    },
    "kernelspec": {
      "name": "python3",
      "display_name": "Python 3"
    },
    "language_info": {
      "name": "python"
    }
  },
  "cells": [
    {
      "cell_type": "markdown",
      "metadata": {
        "id": "view-in-github",
        "colab_type": "text"
      },
      "source": [
        "<a href=\"https://colab.research.google.com/github/viktoruebelhart/analyzing-financial-fraud/blob/main/analyzing_financial_fraud.ipynb\" target=\"_parent\"><img src=\"https://colab.research.google.com/assets/colab-badge.svg\" alt=\"Open In Colab\"/></a>"
      ]
    },
    {
      "cell_type": "markdown",
      "source": [
        "# Introduction"
      ],
      "metadata": {
        "id": "KUzoSueu-gaj"
      }
    },
    {
      "cell_type": "markdown",
      "source": [
        "This project is dedicated to building a robust solution for detecting fraudulent activities. By developing and implementing advanced analytical techniques, the project aims to identify suspicious patterns and irregularities that may indicate fraudulent behavior. The ultimate goal is to create a reliable system that can flag potentially fraudulent transactions or activities, enhancing security and supporting proactive measures against fraud.\n",
        "\n",
        "Key stages of the process include:\n",
        "\n",
        "*  Conducting exploratory data analysis\n",
        "*  Analyzing correlations\n",
        "*  Engineering features\n",
        "*  Building and training models\n",
        "*  Assessing model performance\n",
        "\n",
        "dataset:\n",
        "https://drive.google.com/file/d/1zjK8zQK5zvhR_r2chWI5dCjeOwASlPfb/view?usp=sharing"
      ],
      "metadata": {
        "id": "PBlglsPwAX8r"
      }
    },
    {
      "cell_type": "markdown",
      "source": [
        "# Importing the dataset"
      ],
      "metadata": {
        "id": "Q5stGyVGA8uH"
      }
    },
    {
      "cell_type": "code",
      "execution_count": null,
      "metadata": {
        "id": "EO56ZXma-Z2S"
      },
      "outputs": [],
      "source": [
        "# importing libraries\n",
        "\n",
        "import pandas as pd\n",
        "import numpy as np\n",
        "import matplotlib.pyplot as plt\n",
        "import seaborn as sns\n",
        "from numpy import asarray\n",
        "\n",
        "from datetime import datetime as dt\n",
        "from datetime import timedelta as td\n",
        "\n",
        "from sklearn.preprocessing import OrdinalEncoder\n",
        "from sklearn.model_selection import train_test_split\n",
        "\n",
        "# Feature importance\n",
        "from sklearn.inspection import permutation_importance\n",
        "\n",
        "import warnings\n",
        "warnings.filterwarnings(\"ignore\")"
      ]
    },
    {
      "cell_type": "code",
      "source": [
        "df = pd.read_csv('/content/drive/MyDrive/Alura/fraud_detection_dataset.csv')"
      ],
      "metadata": {
        "id": "LoeLgKK_BXc3"
      },
      "execution_count": null,
      "outputs": []
    },
    {
      "cell_type": "code",
      "source": [
        "df.head()"
      ],
      "metadata": {
        "id": "VEFVED9KEM6W"
      },
      "execution_count": null,
      "outputs": []
    },
    {
      "cell_type": "markdown",
      "source": [
        "- step - indicates the total time passed in hours from the start of the simulation, ranging between 1 and 744 (representing a 30-day period).\n",
        "\n",
        "- type - specifies the type of transaction, such as deposit, withdrawal, debit, payment, or transfer.\n",
        "\n",
        "- amount - reflects the total value involved in the transaction.\n",
        "\n",
        "- nameOrig - identifies the customer who initiated the transaction.\n",
        "\n",
        "- oldbalanceOrg - shows the account balance of the initiating party before the transaction occurred.\n",
        "\n",
        "- newbalanceOrig - shows the updated balance of the origin account after the transaction.\n",
        "\n",
        "- nameDest - refers to the intended recipient or target of the transaction.\n",
        "\n",
        "- oldbalanceDest - captures the balance of the recipient's account prior to the transaction.\n",
        "\n",
        "- newbalanceDest - displays the balance of the destination account after the transaction.\n",
        "\n",
        "- isFraud - indicates if the transaction is classified as fraudulent. In this scenario, fraud is assumed to occur when a user’s account is accessed and drained through transfers, followed by a withdrawal from the destination account.\n",
        "\n",
        "- isFlaggedFraud - marked by the bank as potential fraud if the transaction attempts to transfer an amount exceeding 200,000."
      ],
      "metadata": {
        "id": "oqdTrGiaFAgE"
      }
    },
    {
      "cell_type": "markdown",
      "source": [
        "##Exploratory Data Analysis (EDA)"
      ],
      "metadata": {
        "id": "b-BGu6xzQ-Tl"
      }
    },
    {
      "cell_type": "markdown",
      "source": [
        "\n",
        "##check the information in our dataset and analyze classification and fulfillment"
      ],
      "metadata": {
        "id": "VAhYSX-OGsnN"
      }
    },
    {
      "cell_type": "code",
      "source": [
        "df.shape"
      ],
      "metadata": {
        "id": "iPwXLiIcHQsz"
      },
      "execution_count": null,
      "outputs": []
    },
    {
      "cell_type": "code",
      "source": [
        "df.info()"
      ],
      "metadata": {
        "id": "uXcxoE2DEVvG"
      },
      "execution_count": null,
      "outputs": []
    },
    {
      "cell_type": "code",
      "source": [
        "df.isna().sum()"
      ],
      "metadata": {
        "id": "nEub1mBiHHZT"
      },
      "execution_count": null,
      "outputs": []
    },
    {
      "cell_type": "markdown",
      "source": [
        "There isn't any null value in the dataset"
      ],
      "metadata": {
        "id": "tu4lcgV8HLdt"
      }
    },
    {
      "cell_type": "code",
      "source": [
        "df.describe()"
      ],
      "metadata": {
        "id": "Dq1m4JNkGzAH"
      },
      "execution_count": null,
      "outputs": []
    },
    {
      "cell_type": "code",
      "source": [
        "df['isFraud'].value_counts()"
      ],
      "metadata": {
        "id": "rhTHpNWaVxN2"
      },
      "execution_count": null,
      "outputs": []
    },
    {
      "cell_type": "code",
      "source": [
        "percentage_frau = df['isFraud'].value_counts(normalize=True) * 100\n",
        "percentage_frau"
      ],
      "metadata": {
        "id": "EUT_pwGEV2JV"
      },
      "execution_count": null,
      "outputs": []
    },
    {
      "cell_type": "code",
      "source": [
        "# Calculate the percentage of fraudulent transactions\n",
        "fraud_percentage = df['isFraud'].value_counts(normalize=True) * 100\n",
        "\n",
        "# Create the plot\n",
        "plt.figure(figsize=(8, 6))\n",
        "sns.set_palette(\"coolwarm\")\n",
        "ax = sns.countplot(x='isFraud', data=df)\n",
        "\n",
        "# Customize title and axis labels\n",
        "plt.title('Distribution of Fraudulent Transactions')\n",
        "plt.xlabel('Fraudulent (1) / Not Fraudulent (0)')\n",
        "plt.ylabel('Number of Transactions')\n",
        "\n",
        "# Add percentage labels to the bars\n",
        "for p, percentage in zip(ax.patches, fraud_percentage):\n",
        "    ax.annotate(f'{percentage:.2f}%',\n",
        "                (p.get_x() + p.get_width() / 2., p.get_height()),\n",
        "                ha='center',\n",
        "                va='bottom',\n",
        "                xytext=(0, 5),\n",
        "                textcoords='offset points',\n",
        "                fontsize=12,\n",
        "                color='black')\n",
        "\n",
        "plt.show()"
      ],
      "metadata": {
        "id": "0WZ-02HTG7lG"
      },
      "execution_count": null,
      "outputs": []
    },
    {
      "cell_type": "markdown",
      "source": [
        "Based on the analysis, the percentage of fraudulent transactions (isFraud) is very low, with only 0.13% of transactions marked as fraud, while 99.87% are non-fraudulent. This highly imbalanced distribution suggests a significant class imbalance, which can impact the performance of any predictive models trained on this data."
      ],
      "metadata": {
        "id": "QG2ua1DaXCqD"
      }
    },
    {
      "cell_type": "markdown",
      "source": [
        "Let's begin by evaluating the effectiveness of the bank's fraud detection engine.\n",
        "We started by examining the total fraud referrals that were conducted."
      ],
      "metadata": {
        "id": "IoERpDo6XTNq"
      }
    },
    {
      "cell_type": "code",
      "source": [
        "# Analyze the effectiveness of the bank's fraud detection system.\n",
        "# Calculate how many fraudulent transactions were correctly identified by the bank.\n",
        "\n",
        "true_positives = len(df[(df['isFraud'] == 1) & (df['isFlaggedFraud'] == 1)])\n",
        "false_negatives = len(df[(df['isFraud'] == 1) & (df['isFlaggedFraud'] == 0)])\n",
        "total_fraudulent = len(df[df['isFraud'] == 1])\n",
        "\n",
        "bank_accuracy = (true_positives / total_fraudulent) * 100\n",
        "\n",
        "print(f\"Number of True Positives: {true_positives}\")\n",
        "print(f\"Number of False Negatives: {false_negatives}\")\n",
        "print(f\"Total Fraudulent Transactions: {total_fraudulent}\")\n",
        "print(f\"Bank Accuracy in identifying fraud: {bank_accuracy:.2f}%\")"
      ],
      "metadata": {
        "id": "deF5Wr5iSSN_"
      },
      "execution_count": null,
      "outputs": []
    },
    {
      "cell_type": "code",
      "source": [
        "ax = sns.barplot(x=['Bank Identifying', 'Fraud'],\n",
        "                 y=[df.isFlaggedFraud.sum(), df.isFraud.sum()])\n",
        "plt.title('Bank Identifying vs Real Fraud')\n",
        "\n",
        "# Add count labels on each bar\n",
        "for p in ax.patches:\n",
        "    ax.annotate(f'{int(p.get_height())}',\n",
        "                (p.get_x() + p.get_width() / 2., p.get_height()),\n",
        "                ha='center',\n",
        "                va='bottom',\n",
        "                xytext=(0, 5),\n",
        "                textcoords='offset points',\n",
        "                fontsize=10)\n",
        "\n",
        "plt.show()"
      ],
      "metadata": {
        "id": "6h4FW9wXat__"
      },
      "execution_count": null,
      "outputs": []
    },
    {
      "cell_type": "markdown",
      "source": [
        "The bank's fraud detection engine shows a low accuracy in identifying fraudulent transactions, with only 16 true positives out of 8,213 total fraudulent transactions. This results in a significant number of false negatives (8,197), where fraud went undetected. Consequently, the bank's accuracy in detecting fraud is just 0.19%, indicating that the current detection system may require substantial improvements to effectively identify and mitigate fraudulent activity."
      ],
      "metadata": {
        "id": "kUPKMjAueimD"
      }
    },
    {
      "cell_type": "markdown",
      "source": [
        "##Fraud analysis over time"
      ],
      "metadata": {
        "id": "eRt-QgwrrxOS"
      }
    },
    {
      "cell_type": "code",
      "source": [
        "#Fraud over Step time\n",
        "fraud_counts = df[df['isFraud'] == 1].groupby('step').size()\n",
        "fraud_counts"
      ],
      "metadata": {
        "id": "vQdmpcGZo5wN"
      },
      "execution_count": null,
      "outputs": []
    },
    {
      "cell_type": "code",
      "source": [
        "# Plot fraud_counts (fraud per each hour of the month)\n",
        "plt.figure(figsize=(14, 6))\n",
        "plt.plot(fraud_counts.index, fraud_counts.values, label=\"Fraud per Hour of the Month\")\n",
        "plt.xlabel('Hour of the Month (Step)')\n",
        "plt.ylabel('Number of Frauds')\n",
        "plt.title('Fraud Distribution Over the Month (Step)')\n",
        "plt.legend()\n",
        "plt.show()"
      ],
      "metadata": {
        "id": "9oC3bT69sP3a"
      },
      "execution_count": null,
      "outputs": []
    },
    {
      "cell_type": "code",
      "source": [
        "# Get the top 5 hours with the highest fraud counts\n",
        "top_5_fraud_counts = fraud_counts.nlargest(5)\n",
        "\n",
        "# Display the top 5 hours\n",
        "print(\"Top 5 Hours with Highest Fraud Counts:\")\n",
        "print(top_5_fraud_counts)"
      ],
      "metadata": {
        "id": "BW6R17hasngI"
      },
      "execution_count": null,
      "outputs": []
    },
    {
      "cell_type": "code",
      "source": [
        "# Calculates fraud count for each hour of the day (0 to 23)\n",
        "fraud_counts_by_hour = df[df['isFraud'] == 1].groupby(df['step'] % 24).size()\n",
        "\n",
        "# Show results\n",
        "fraud_counts_by_hour"
      ],
      "metadata": {
        "id": "Z_xktfGyp0NX"
      },
      "execution_count": null,
      "outputs": []
    },
    {
      "cell_type": "code",
      "source": [
        "# Plot fraud_counts_by_hour (fraud per each hour of the day)\n",
        "plt.figure(figsize=(10, 5))\n",
        "plt.bar(fraud_counts_by_hour.index, fraud_counts_by_hour.values, color='orange', label=\"Fraud per Hour of the Day\")\n",
        "plt.xlabel('Hour of the Day')\n",
        "plt.ylabel('Number of Frauds')\n",
        "plt.title('Fraud Distribution by Hour of the Day')\n",
        "plt.xticks(range(24))  # Sets the x-axis to show all hours of the day (0 to 23)\n",
        "plt.legend()\n",
        "plt.show()"
      ],
      "metadata": {
        "id": "33dPgxHjq5qS"
      },
      "execution_count": null,
      "outputs": []
    },
    {
      "cell_type": "code",
      "source": [
        "# Get the top 5 hours with the highest fraud counts by hour\n",
        "top_5_fraud_counts_by_hour = fraud_counts_by_hour.nlargest(5)\n",
        "\n",
        "# Display the top 5 hours\n",
        "print(\"Top 5 Hours with Highest Fraud Counts:\")\n",
        "print(top_5_fraud_counts_by_hour)"
      ],
      "metadata": {
        "id": "F4EwJsx9s32Y"
      },
      "execution_count": null,
      "outputs": []
    },
    {
      "cell_type": "markdown",
      "source": [
        "Based on the analysis of the top 5 hours with the highest fraud counts, it is evident that there is limited variation in fraud occurrences across different hours of the day. The highest counts are clustered closely, with only a small numerical difference between the top entries. This suggests that certain hours, such as 10, 2, and 8, experience slightly elevated fraud activity, but overall, the distribution does not show significant spikes or fluctuations.\n",
        "\n",
        "This consistent pattern indicates that fraud attempts may be occurring throughout the day rather than being concentrated in specific high-risk periods."
      ],
      "metadata": {
        "id": "shw4scB80KR1"
      }
    },
    {
      "cell_type": "markdown",
      "source": [
        "## Distribution of the number of operations"
      ],
      "metadata": {
        "id": "plz_6Dlk148G"
      }
    },
    {
      "cell_type": "code",
      "source": [
        "import seaborn as sns\n",
        "import matplotlib.pyplot as plt\n",
        "\n",
        "# Plot the transaction amount divided by fraud/non-fraud\n",
        "sns.boxplot(data=df, x='isFraud', y='amount')\n",
        "plt.xlabel('Fraud Status (0 = Non-Fraud, 1 = Fraud)')\n",
        "plt.ylabel('Transaction Amount')\n",
        "plt.title('Transaction Amounts by Fraud and Non-Fraud')\n",
        "plt.show()"
      ],
      "metadata": {
        "id": "mx8bdeuHtK9E"
      },
      "execution_count": null,
      "outputs": []
    },
    {
      "cell_type": "code",
      "source": [
        "# Checking distribution of source and destination accounts when FRAUD\n",
        "features_counts = ['oldbalanceOrg', 'newbalanceOrig', 'oldbalanceDest', 'newbalanceDest']\n",
        "\n",
        "fig = plt.figure(figsize=(12, 8))\n",
        "\n",
        "for i, column in enumerate(features_counts):\n",
        "    ax = fig.add_subplot(2, 2, i + 1)  # Use enumerate to get the index\n",
        "    sns.boxplot(data=df[df.isFraud == 1], y=column, )  # Use y=column to set the y-axis\n",
        "    ax.set_title(f'Distribution of {column} When Fraud')  # Add title for clarity\n",
        "\n",
        "plt.tight_layout()  # Adjust layout to prevent overlap\n",
        "plt.show()\n"
      ],
      "metadata": {
        "id": "VHiQ_4cU2ClD"
      },
      "execution_count": null,
      "outputs": []
    },
    {
      "cell_type": "code",
      "source": [
        "# Filter only fraudulent transactions\n",
        "fraudulent_transactions = df[df['isFraud'] == 1]"
      ],
      "metadata": {
        "id": "KaWmvFBT2uQ9"
      },
      "execution_count": null,
      "outputs": []
    },
    {
      "cell_type": "code",
      "source": [
        "# Descriptive statistics for amount\n",
        "amount_stats_amount = fraudulent_transactions['amount'].describe()\n",
        "print(\"Descriptive Statistics for Amount in Fraudulent Transactions:\")\n",
        "print(amount_stats_amount)"
      ],
      "metadata": {
        "id": "0RsbX-gr7zhP"
      },
      "execution_count": null,
      "outputs": []
    },
    {
      "cell_type": "code",
      "source": [
        "# Descriptive statistics for balances\n",
        "balance_stats = fraudulent_transactions[['oldbalanceOrg', 'newbalanceOrig', 'oldbalanceDest', 'newbalanceDest']].describe()\n",
        "\n",
        "print(\"\\nDescriptive Statistics for Balances in Fraudulent Transactions:\")\n",
        "print(balance_stats)"
      ],
      "metadata": {
        "id": "tLjOv6FW8Nzt"
      },
      "execution_count": null,
      "outputs": []
    },
    {
      "cell_type": "markdown",
      "source": [
        "Overall Conclusions\n",
        "\n",
        "High-value Transactions: The data indicates that fraudulent transactions often involve high amounts of money, suggesting that fraudsters are targeting substantial sums.\n",
        "\n",
        "Variability: The high standard deviations across amounts and balances indicate a diverse range of behaviors and strategies in fraudulent transactions.\n",
        "\n",
        "Impact on Origin Accounts: The analysis suggests that the balances in origin accounts are significantly impacted post-transaction, with funds being drained as part of the fraudulent activities.\n",
        "\n",
        "Targeting of Accounts: The data indicates that accounts with high balances are frequently targeted, both for withdrawals and transfers.\n",
        "\n",
        "Potential for Multiple Transactions: The wide range of transaction amounts and balances implies that fraudsters may employ various tactics, possibly conducting multiple smaller transactions alongside larger ones to evade detection."
      ],
      "metadata": {
        "id": "PIO30cERj4AT"
      }
    },
    {
      "cell_type": "markdown",
      "source": [
        "##Analyze transaction types"
      ],
      "metadata": {
        "id": "lYd86N8IkTtD"
      }
    },
    {
      "cell_type": "code",
      "source": [
        "#counts the type of trasaction\n",
        "df['type'].value_counts()"
      ],
      "metadata": {
        "id": "oyUiEwK688zD"
      },
      "execution_count": null,
      "outputs": []
    },
    {
      "cell_type": "code",
      "source": [
        "# Calculate the percentage of each transaction type\n",
        "type_percentage = df['type'].value_counts(normalize=True) * 100\n",
        "\n",
        "# Display the result\n",
        "print('The percentage of each transaction \\n', type_percentage)"
      ],
      "metadata": {
        "id": "QkDagSBHmW5J"
      },
      "execution_count": null,
      "outputs": []
    },
    {
      "cell_type": "code",
      "source": [
        "# Plotting the distribution of transaction types with distinct colors for each type\n",
        "plt.figure(figsize=(8, 4))\n",
        "\n",
        "# Countplot with a custom palette to apply different colors to each transaction type\n",
        "sns.countplot(x='type', data=df, palette='Set2')\n",
        "\n",
        "# Setting the title and axis labels\n",
        "plt.title('Distribution of Transaction Types')\n",
        "plt.xlabel('Transaction Type')\n",
        "plt.ylabel('Number of Transactions')\n",
        "\n",
        "# Rotate x-axis labels for better readability\n",
        "plt.xticks(rotation=45)\n",
        "\n",
        "# Display the plot\n",
        "plt.show()\n"
      ],
      "metadata": {
        "id": "vATINPTkkd0d"
      },
      "execution_count": null,
      "outputs": []
    },
    {
      "cell_type": "code",
      "source": [
        "#counts the type of trasaction when is Fraud\n",
        "type_fraud = df[df['isFraud'] == 1]['type'].value_counts()\n",
        "type_fraud"
      ],
      "metadata": {
        "id": "4BOkc_TmkpAA"
      },
      "execution_count": null,
      "outputs": []
    },
    {
      "cell_type": "code",
      "source": [
        "# Calculate the percentage of each fraud transaction type\n",
        "type_fraud_percentage = df[df['isFraud'] == 1]['type'].value_counts(normalize=True) * 100\n",
        "\n",
        "# Display the result\n",
        "print('The percentage of each fraud transaction type \\n', type_fraud_percentage)"
      ],
      "metadata": {
        "id": "TmXyd3qLpj9X"
      },
      "execution_count": null,
      "outputs": []
    },
    {
      "cell_type": "code",
      "source": [
        "sns.countplot(x='type', data=df[df['isFraud'] == 1], palette='Set2')\n",
        "plt.title('Distribution of Fraudulent Transaction Types')\n",
        "plt.xlabel('Transaction Type')\n",
        "plt.ylabel('Number of Fraudulent Transactions')\n",
        "plt.xticks(rotation=45)"
      ],
      "metadata": {
        "id": "NcJZCb_RqMeL"
      },
      "execution_count": null,
      "outputs": []
    },
    {
      "cell_type": "markdown",
      "source": [
        "##Evaluating account names"
      ],
      "metadata": {
        "id": "-vV3W0691HNm"
      }
    },
    {
      "cell_type": "code",
      "source": [
        "df.head()"
      ],
      "metadata": {
        "id": "--SjKvWprWuB"
      },
      "execution_count": null,
      "outputs": []
    },
    {
      "cell_type": "code",
      "source": [
        "# quantity of each name in the origin list\n",
        "df.nameOrig.value_counts()"
      ],
      "metadata": {
        "id": "H7sHcuxn02SI"
      },
      "execution_count": null,
      "outputs": []
    },
    {
      "cell_type": "code",
      "source": [
        "# quantity of each destiny list name\n",
        "df['nameDest'].value_counts()"
      ],
      "metadata": {
        "id": "oAXpnv8g1Pt7"
      },
      "execution_count": null,
      "outputs": []
    },
    {
      "cell_type": "markdown",
      "source": [
        "The amounts associated with the same target name are significantly higher than those for the source.\n",
        "\n",
        "It would be useful to conduct a deeper analysis of the destine names."
      ],
      "metadata": {
        "id": "4dnZGYnz29Nx"
      }
    },
    {
      "cell_type": "code",
      "source": [
        "# Analyze 'nameDest' for fraudulent transactions\n",
        "\n",
        "# Group fraudulent transactions by 'nameDest' and count occurrences\n",
        "fraudulent_nameDest_counts = df[df['isFraud'] == 1]['nameDest'].value_counts()\n",
        "\n",
        "# Display the top N most frequent 'nameDest' in fraudulent transactions\n",
        "N = 10  # Change N to see a different number of top names\n",
        "print(f\"Top {N} 'nameDest' involved in fraudulent transactions:\")\n",
        "print(fraudulent_nameDest_counts.head(N))\n",
        "\n",
        "# Analyze the distribution of transaction amounts for these top 'nameDest'\n",
        "for name in fraudulent_nameDest_counts.head(N).index:\n",
        "    amounts = df[(df['isFraud'] == 1) & (df['nameDest'] == name)]['amount']\n",
        "    print(f\"\\nTransaction amounts for 'nameDest' = {name}:\")\n",
        "    print(amounts.describe())\n"
      ],
      "metadata": {
        "id": "Ahw58yJa1m7y"
      },
      "execution_count": null,
      "outputs": []
    },
    {
      "cell_type": "code",
      "source": [
        "# Group by 'nameDest' and 'isFraud' and count transactions.\n",
        "transaction_counts = df.groupby(['nameDest', 'isFraud']).size().unstack(fill_value=0)\n",
        "\n",
        "# Get the 'nameDest' from fraudulent_nameDest_counts\n",
        "names = fraudulent_nameDest_counts.index\n",
        "\n",
        "# Filter transaction counts for the names\n",
        "transaction_counts = transaction_counts.loc[names]\n",
        "\n",
        "# Display the results\n",
        "transaction_counts"
      ],
      "metadata": {
        "id": "CcVEXsaO7LN-"
      },
      "execution_count": null,
      "outputs": []
    },
    {
      "cell_type": "markdown",
      "source": [
        "Several recipients involved in fraudulent transactions conducted numerous transactions over the period, with only one or two being flagged as fraudulent.\n",
        "\n",
        "Let's examine the distribution of transaction counts for recipients who experienced at least one fraudulent transaction."
      ],
      "metadata": {
        "id": "3A5QEJwXEGC_"
      }
    },
    {
      "cell_type": "code",
      "source": [
        "#boxplot do transaction_counts\n",
        "\n",
        "plt.figure(figsize=(12, 6))\n",
        "sns.boxplot(data=transaction_counts)\n",
        "plt.title('Boxplot of Transaction Counts for Recipients with Fraudulent Transactions')\n",
        "plt.xlabel('Transaction Status (0: Not Fraud, 1: Fraud)')\n",
        "plt.ylabel('Number of Transactions')\n",
        "plt.show()"
      ],
      "metadata": {
        "id": "Ddlff2bl-HHc"
      },
      "execution_count": null,
      "outputs": []
    },
    {
      "cell_type": "code",
      "source": [
        "# (IQR) do transaction_counts\n",
        "\n",
        "# Calculate the first quartile (Q1)\n",
        "Q1 = transaction_counts.quantile(0.25)\n",
        "\n",
        "# Calculate the third quartile (Q3)\n",
        "Q3 = transaction_counts.quantile(0.75)\n",
        "\n",
        "# Calculate the IQR\n",
        "IQR = Q3 - Q1\n",
        "\n",
        "print(\"IQR of transaction_counts:\")\n",
        "IQR"
      ],
      "metadata": {
        "id": "zTS9BVxXIJZn"
      },
      "execution_count": null,
      "outputs": []
    },
    {
      "cell_type": "markdown",
      "source": [
        "#Does this distribution differ from that of other recipients (those with no involvement in fraudulent transactions)?"
      ],
      "metadata": {
        "id": "4-DATWGAHTLS"
      }
    },
    {
      "cell_type": "code",
      "source": [
        "# Analyze transactions for nameDest where isFraud is 0\n",
        "non_fraudulent_transactions = df[df['isFraud'] == 0]\n",
        "\n",
        "# Group by 'nameDest' and count transactions\n",
        "non_fraudulent_nameDest_counts = non_fraudulent_transactions['nameDest'].value_counts()\n",
        "\n",
        "# Display the top N most frequent 'nameDest' in non-fraudulent transactions\n",
        "N = 10  # Change N to see a different number of top names\n",
        "print(f\"Top {N} 'nameDest' involved in non-fraudulent transactions:\")\n",
        "print(non_fraudulent_nameDest_counts.head(N))\n",
        "\n",
        "# Analyze the distribution of transaction amounts for these top 'nameDest'\n",
        "for name in non_fraudulent_nameDest_counts.head(N).index:\n",
        "    amounts = non_fraudulent_transactions[(non_fraudulent_transactions['nameDest'] == name)]['amount']\n",
        "    print(f\"\\nTransaction amounts for 'nameDest' = {name}:\")\n",
        "    print(amounts.describe())\n",
        "\n",
        "#Further analysis, you could compare these results with the fraudulent transactions\n",
        "# to look for patterns or differences.  For example, you could compute the average\n",
        "# transaction amount for each nameDest in both fraudulent and non-fraudulent\n",
        "# transactions, and compare them using a box plot."
      ],
      "metadata": {
        "id": "znWQdPmFEmh5"
      },
      "execution_count": null,
      "outputs": []
    },
    {
      "cell_type": "code",
      "source": [
        "non_fraudulent_nameDest_counts"
      ],
      "metadata": {
        "id": "JR7ufReXGFcA"
      },
      "execution_count": null,
      "outputs": []
    },
    {
      "cell_type": "code",
      "source": [
        "#boxplot do non_fraudulent_nameDest_counts\n",
        "\n",
        "plt.figure(figsize=(12, 6))\n",
        "sns.boxplot(data=non_fraudulent_nameDest_counts)\n",
        "plt.title('Boxplot of Transaction Counts for Recipients with Non-Fraudulent Transactions')\n",
        "plt.xlabel('Number of Transactions')\n",
        "plt.show()"
      ],
      "metadata": {
        "id": "w6dDBgSPHIYK"
      },
      "execution_count": null,
      "outputs": []
    },
    {
      "cell_type": "code",
      "source": [
        "#(IQR) do non_fraudulent_nameDest_counts\n",
        "\n",
        "# Calculate the first quartile (Q1)\n",
        "Q1 = non_fraudulent_nameDest_counts.quantile(0.25)\n",
        "\n",
        "# Calculate the third quartile (Q3)\n",
        "Q3 = non_fraudulent_nameDest_counts.quantile(0.75)\n",
        "\n",
        "# Calculate the interquartile range (IQR)\n",
        "IQR = Q3 - Q1\n",
        "\n",
        "print(f\"The Interquartile Range (IQR) of non_fraudulent_nameDest_counts is: {IQR}\")"
      ],
      "metadata": {
        "id": "adR7Ux8VHdCM"
      },
      "execution_count": null,
      "outputs": []
    },
    {
      "cell_type": "markdown",
      "source": [
        "There was a difference in the distribution of transaction counts between recipients involved in fraudulent transactions and those who were not."
      ],
      "metadata": {
        "id": "ZDP97JpHI79Z"
      }
    },
    {
      "cell_type": "code",
      "source": [
        "# Select only numerical features for correlation calculation\n",
        "numerical_df = df.select_dtypes(include=['number'])\n",
        "\n",
        "# plotting the correlation heatmap\n",
        "plt.figure(figsize=(10,8))\n",
        "sns.heatmap(round(numerical_df.corr(),4),\n",
        "            annot=True)"
      ],
      "metadata": {
        "id": "Scb9BvKJIGiP"
      },
      "execution_count": null,
      "outputs": []
    },
    {
      "cell_type": "code",
      "source": [
        "df['type'].value_counts()"
      ],
      "metadata": {
        "id": "st5PiMjUyMZE"
      },
      "execution_count": null,
      "outputs": []
    },
    {
      "cell_type": "code",
      "source": [
        "#transform colum 'type' string in int\n",
        "\n",
        "# Create a mapping for transaction types to numerical values\n",
        "type_mapping = {\n",
        "    'PAYMENT': 0,\n",
        "    'TRANSFER': 1,\n",
        "    'CASH_OUT': 2,\n",
        "    'DEBIT': 3,\n",
        "    'CASH_IN': 4\n",
        "}\n",
        "\n",
        "# Apply the mapping to the 'type' column\n",
        "df['type_int'] = df['type'].map(type_mapping)\n",
        "\n",
        "# Now 'type_int' contains the corresponding numerical values\n",
        "df.head()"
      ],
      "metadata": {
        "id": "4ssrrYNXyqBp"
      },
      "execution_count": null,
      "outputs": []
    },
    {
      "cell_type": "code",
      "source": [
        "# Select only numerical features for correlation calculation\n",
        "numerical_df = df.select_dtypes(include=['number'])\n",
        "\n",
        "# plotting the correlation heatmap\n",
        "plt.figure(figsize=(10,8))\n",
        "sns.heatmap(round(numerical_df.corr(),4),\n",
        "            annot=True)"
      ],
      "metadata": {
        "id": "u_i-BLPZz5pe"
      },
      "execution_count": null,
      "outputs": []
    },
    {
      "cell_type": "code",
      "source": [
        "#correlation\n",
        "correlation_matrix = numerical_df.corr()\n",
        "\n",
        "# Exibe a matriz de correlação\n",
        "print(correlation_matrix)\n"
      ],
      "metadata": {
        "id": "6WdM4OJm0JFi"
      },
      "execution_count": null,
      "outputs": []
    },
    {
      "cell_type": "code",
      "source": [
        "#Selecting the highest correlations\n",
        "correlation_matrix = numerical_df.corr()\n",
        "\n",
        "# Transforms the correlation matrix into a DataFrame and resets the index\n",
        "correlation_pairs = correlation_matrix.unstack().reset_index()\n",
        "correlation_pairs.columns = ['Variable1', 'Variable2', 'Correlation']\n",
        "\n",
        "# Removes the correlations of a variable with itself\n",
        "correlation_pairs = correlation_pairs[correlation_pairs['Variable1'] != correlation_pairs['Variable2']]\n",
        "\n",
        "# Sorts by the absolute value of the correlation, in descending order\n",
        "correlation_pairs['AbsCorrelation'] = correlation_pairs['Correlation'].abs()\n",
        "sorted_correlation_pairs = correlation_pairs.sort_values(by='AbsCorrelation', ascending=False)\n",
        "\n",
        "# Displays the pairs with the strongest correlations (e.g., above 0.4)\n",
        "strong_correlations = sorted_correlation_pairs[sorted_correlation_pairs['AbsCorrelation'] > 0.4]\n",
        "print(strong_correlations)\n"
      ],
      "metadata": {
        "id": "MAzaHW442wIL"
      },
      "execution_count": null,
      "outputs": []
    },
    {
      "cell_type": "markdown",
      "source": [
        "Strong Positive Correlations:\n",
        "\n",
        "oldbalanceOrg and newbalanceOrig have an extremely high correlation (0.9988), suggesting these variables are almost identical in value. This could indicate that, in many cases, the new balance of the origin account (newbalanceOrig) is directly tied to its old balance (oldbalanceOrg).\n",
        "newbalanceDest and oldbalanceDest also have a very high correlation (0.9766), implying a similar close relationship between these two variables.\n",
        "\n",
        "Conclusion: These high correlations might mean that these pairs are redundant in predictive modeling. We could consider dropping one variable in each pair to avoid multicollinearity if using models that assume independence among predictors, such as linear regression."
      ],
      "metadata": {
        "id": "Si93xAPx6jt5"
      }
    },
    {
      "cell_type": "code",
      "source": [
        "#show the correlation all features with isFraud\n",
        "\n",
        "# Calculate the correlation between all features and 'isFraud'\n",
        "correlation_with_fraud = numerical_df.corr()['isFraud'].sort_values(ascending=False)\n",
        "\n",
        "# Print the correlations\n",
        "correlation_with_fraud"
      ],
      "metadata": {
        "id": "CjavelSP3RQg"
      },
      "execution_count": null,
      "outputs": []
    },
    {
      "cell_type": "markdown",
      "source": [
        "Weak Correlation with All Variables:\n",
        "\n",
        "The highest correlation with isFraud is with amount (0.0767), which is still quite low. None of the variables have a strong or even moderate correlation with isFraud.\n",
        "Other variables like isFlaggedFraud (0.0441) and step (0.0316) show even weaker positive correlations, while some features like type_int, oldbalanceDest, and newbalanceOrig have very slight negative correlations.\n",
        "\n",
        "Implications:\n",
        "\n",
        "These weak correlations suggest that none of these individual variables alone have a strong linear relationship with isFraud. This could imply that identifying fraud might require more complex interactions between features rather than relying on single-variable thresholds.\n",
        "It also suggests that linear models may struggle to accurately predict fraud based solely on these features. Non-linear models or models that capture interactions between multiple variables (like decision trees, random forests, or neural networks) might perform better in detecting fraud."
      ],
      "metadata": {
        "id": "0MP6cdrV-X4m"
      }
    },
    {
      "cell_type": "markdown",
      "source": [
        "#let's check fraud percentage according to transactions per hour"
      ],
      "metadata": {
        "id": "nxEz08g-B2Il"
      }
    },
    {
      "cell_type": "code",
      "source": [
        "# Create a new column 'hour_of_day' representing the hour of the day (0-23)\n",
        "df['hour_of_day'] = df['step'] % 24\n"
      ],
      "metadata": {
        "id": "cvZawTsFCgcE"
      },
      "execution_count": null,
      "outputs": []
    },
    {
      "cell_type": "code",
      "source": [
        "# Calculate the total number of transactions per hour\n",
        "transactions_per_hour = df.groupby('hour_of_day').size()\n",
        "\n",
        "print(transactions_per_hour)"
      ],
      "metadata": {
        "id": "nkS0WlmHC2uV"
      },
      "execution_count": null,
      "outputs": []
    },
    {
      "cell_type": "code",
      "source": [
        "# Create a new column 'transactions_per_hour' in the DataFrame\n",
        "df['transactions_per_hour'] = df['hour_of_day'].map(transactions_per_hour)\n",
        "df"
      ],
      "metadata": {
        "id": "7Wg54qqyEbCV"
      },
      "execution_count": null,
      "outputs": []
    },
    {
      "cell_type": "code",
      "source": [
        "# Calculate the percentage of fraudulent transactions per hour\n",
        "fraud_percentage_per_hour = (fraudulent_transactions_per_hour / transactions_per_hour) * 100\n",
        "\n",
        "# Print or visualize the results\n",
        "print(fraud_percentage_per_hour)\n",
        "\n",
        "# You can also plot this data for better visualization:\n",
        "import matplotlib.pyplot as plt\n",
        "plt.figure(figsize=(10, 6))\n",
        "plt.plot(fraud_percentage_per_hour.index, fraud_percentage_per_hour.values)\n",
        "plt.xlabel('Hour of the Day')\n",
        "plt.ylabel('Fraud Percentage')\n",
        "plt.title('Fraud Percentage per Hour of the Day')\n",
        "plt.show()"
      ],
      "metadata": {
        "id": "64TGsiwgEUhO"
      },
      "execution_count": null,
      "outputs": []
    }
  ]
}